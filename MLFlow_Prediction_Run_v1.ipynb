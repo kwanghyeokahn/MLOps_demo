{
 "cells": [
  {
   "cell_type": "markdown",
   "metadata": {},
   "source": [
    "#### ML Flow를 활용한 BPED 과제 적용 예제\n",
    "##### 1. 클라이언트 및 Experiments 설정\n",
    ">    * Experiments 조회 & 선택\n",
    "##### 2. Unseen Data 예측\n",
    ">    * 데이터 불러오기\n",
    ">    * 모델 불러오기 & 예측\n",
    ">    * 예측 결과 확인 및 MLflow UI 업로드\n",
    "\n",
    "    "
   ]
  },
  {
   "cell_type": "markdown",
   "metadata": {},
   "source": [
    "<hr/>\n",
    "\n",
    "***"
   ]
  },
  {
   "cell_type": "code",
   "execution_count": 22,
   "metadata": {},
   "outputs": [],
   "source": [
    "# 클라이언트 관련 라이브러리\n",
    "#from mlflow import MlflowClient\n",
    "from pprint import pprint\n",
    "import mlflow\n",
    "import pandas as pd\n",
    "import numpy as np \n",
    "from sklearn.metrics import mean_absolute_error, mean_squared_error, r2_score"
   ]
  },
  {
   "cell_type": "markdown",
   "metadata": {},
   "source": [
    "#### 클라이언트 & Experiments 설정"
   ]
  },
  {
   "cell_type": "code",
   "execution_count": 2,
   "metadata": {},
   "outputs": [],
   "source": [
    "# MLflow Client 생성하기\n",
    "client = mlflow.MlflowClient(tracking_uri=\"http://127.0.0.1:8080\") #서버 주소\n",
    "\n",
    "# 동작하지 않을 시 Bash 환경에서 아래 코드 동작\n",
    "# mlflow server --host 192.168.25.154 --port 5000"
   ]
  },
  {
   "cell_type": "code",
   "execution_count": 3,
   "metadata": {},
   "outputs": [],
   "source": [
    "# 사용할 MLflow UI server 셋팅\n",
    "mlflow.set_tracking_uri(\"http://127.0.0.1:8080\")"
   ]
  },
  {
   "cell_type": "code",
   "execution_count": 4,
   "metadata": {},
   "outputs": [
    {
     "data": {
      "text/plain": [
       "[<Experiment: artifact_location='mlflow-artifacts:/660539802931161362', creation_time=1708501099510, experiment_id='660539802931161362', last_update_time=1708501099510, lifecycle_stage='active', name='Bped_442T06_Li', tags={'mlflow.note.content': '프로젝트 명 : ML Flow를 활용한 BPED 개발 Tutorial\\n'\n",
       "                         '개발 모델 명 : 442T06_Li Regression 모델\\n'\n",
       "                         '개발자 : 안광혁\\n'\n",
       "                         '개발 기간 : 2024.02.16 ~\\n',\n",
       "  'project_name': 'MLflow Tutorial',\n",
       "  'project_quarter': 'Q1-2024',\n",
       "  'store_dept': 'AI사업부',\n",
       "  'team': 'Data Analyasis'}>,\n",
       " <Experiment: artifact_location='mlflow-artifacts:/565309613522282985', creation_time=1707877184950, experiment_id='565309613522282985', last_update_time=1707877184950, lifecycle_stage='active', name='MLflow Quickstart', tags={}>,\n",
       " <Experiment: artifact_location='mlflow-artifacts:/0', creation_time=1707877184924, experiment_id='0', last_update_time=1707877184924, lifecycle_stage='active', name='Default', tags={}>]"
      ]
     },
     "execution_count": 4,
     "metadata": {},
     "output_type": "execute_result"
    }
   ],
   "source": [
    "# experiments 확인\n",
    "client.search_experiments()"
   ]
  },
  {
   "cell_type": "code",
   "execution_count": 5,
   "metadata": {},
   "outputs": [
    {
     "name": "stdout",
     "output_type": "stream",
     "text": [
      "[<Experiment: artifact_location='mlflow-artifacts:/660539802931161362', creation_time=1708501099510, experiment_id='660539802931161362', last_update_time=1708501099510, lifecycle_stage='active', name='Bped_442T06_Li', tags={'mlflow.note.content': '프로젝트 명 : ML Flow를 활용한 BPED 개발 Tutorial\\n'\n",
      "                        '개발 모델 명 : 442T06_Li Regression 모델\\n'\n",
      "                        '개발자 : 안광혁\\n'\n",
      "                        '개발 기간 : 2024.02.16 ~\\n',\n",
      " 'project_name': 'MLflow Tutorial',\n",
      " 'project_quarter': 'Q1-2024',\n",
      " 'store_dept': 'AI사업부',\n",
      " 'team': 'Data Analyasis'}>]\n"
     ]
    }
   ],
   "source": [
    "# experiment 확인 filter를 이용한 확인\n",
    "\n",
    "search_442T06_Li_experiment = client.search_experiments(\n",
    "    filter_string=\"tags.`project_name` = 'MLflow Tutorial'\"\n",
    ")\n",
    "\n",
    "pprint(search_442T06_Li_experiment)"
   ]
  },
  {
   "cell_type": "code",
   "execution_count": 6,
   "metadata": {},
   "outputs": [
    {
     "name": "stdout",
     "output_type": "stream",
     "text": [
      "All Run IDs in the Experiment: ['09a065bc849f49fba61a7728fbd37c52', 'd6ac6348d01a4b348ed70d0f78120d1a', '7ef55345a8cb4ec9a507a01f7bf3f372', '3932a8c8e5b3429e9ad427837a332b88', '142fa2ee028e456697da90de1a97d6a0', '700dfe3f00654935bda834dc883f066d', '6597bfe49de44ab7b623731f1a4f353c', '022670ae21664254a255fae7b6d48f92']\n"
     ]
    }
   ],
   "source": [
    "# 특정 실험(experiment)의 모든 run ID 조회\n",
    "\n",
    "experiment_name = \"Bped_442T06_Li\"\n",
    "\n",
    "experiment_id = mlflow.get_experiment_by_name(experiment_name).experiment_id\n",
    "runs = mlflow.search_runs(experiment_ids=experiment_id)\n",
    "run_ids = runs[\"run_id\"].tolist()\n",
    "print(\"All Run IDs in the Experiment:\", run_ids)"
   ]
  },
  {
   "cell_type": "code",
   "execution_count": 7,
   "metadata": {},
   "outputs": [],
   "source": [
    "# 예측에 사용할 모델의 URI 찾기\n",
    "\n",
    "run_id = \"3932a8c8e5b3429e9ad427837a332b88\" # Web UI상에서 활용할 모델의 RUN ID 확인 후 작성\n",
    "model_path = \"model\" # 모델 학습시 설정한 model_path 일반적인 상황에서 model로 사용\n",
    "model_uri =f\"runs:/{run_id}/{model_path}\""
   ]
  },
  {
   "cell_type": "markdown",
   "metadata": {},
   "source": [
    "* * *"
   ]
  },
  {
   "cell_type": "markdown",
   "metadata": {},
   "source": [
    "#### Unseen Data 예측하기"
   ]
  },
  {
   "cell_type": "code",
   "execution_count": 15,
   "metadata": {},
   "outputs": [],
   "source": [
    "# 데이터 불러오기 \n",
    "\n",
    "# 사용 변수 정보\n",
    "df_features = pd.read_json('model_features_v1.2.json')\n",
    "COL_442T06_Li = df_features[df_features['442T06_Li']=='Y'][['INDEX','FEATURE']] #23년\n",
    "\n",
    "unseen_X = pd.read_csv('data/first_testdata.csv')\n",
    "unseen_y = pd.read_csv('data/first_testdata.csv')\n",
    "\n",
    "X = unseen_X[COL_442T06_Li['FEATURE'].to_list()]\n",
    "Y = unseen_y['442T06_Li']"
   ]
  },
  {
   "cell_type": "code",
   "execution_count": 18,
   "metadata": {},
   "outputs": [
    {
     "name": "stderr",
     "output_type": "stream",
     "text": [
      "Downloading artifacts: 100%|██████████| 6/6 [00:03<00:00,  1.61it/s]\n"
     ]
    }
   ],
   "source": [
    "# 모델 불러오기\n",
    "loaded_model = mlflow.pyfunc.load_model(model_uri)\n",
    "\n",
    "# 입력 데이터에 대한 예측 수행\n",
    "unseen_y_pred = loaded_model.predict(X)"
   ]
  },
  {
   "cell_type": "code",
   "execution_count": 32,
   "metadata": {},
   "outputs": [
    {
     "data": {
      "text/plain": [
       "array([22.163313, 22.163313, 22.163313, ..., 22.15953 , 22.15953 ,\n",
       "       22.15953 ], dtype=float32)"
      ]
     },
     "execution_count": 32,
     "metadata": {},
     "output_type": "execute_result"
    }
   ],
   "source": [
    "unseen_y_pred"
   ]
  },
  {
   "cell_type": "code",
   "execution_count": 29,
   "metadata": {},
   "outputs": [],
   "source": [
    "# Calculate error metrics\n",
    "mae = round(mean_absolute_error(Y, unseen_y_pred),2)\n",
    "mse = round(mean_squared_error(Y, unseen_y_pred),2)\n",
    "rmse = round(np.sqrt(mse),2)\n",
    "\n",
    "metrics = {\"mean_absolute_error\": mae, \"mean_squared_error\": mse, \"root_mean_squared_error\": rmse}"
   ]
  },
  {
   "cell_type": "code",
   "execution_count": 30,
   "metadata": {},
   "outputs": [
    {
     "data": {
      "text/plain": [
       "{'mean_absolute_error': 6.78,\n",
       " 'mean_squared_error': 46.45,\n",
       " 'root_mean_squared_error': 6.82}"
      ]
     },
     "execution_count": 30,
     "metadata": {},
     "output_type": "execute_result"
    }
   ],
   "source": [
    "metrics"
   ]
  },
  {
   "cell_type": "code",
   "execution_count": 31,
   "metadata": {},
   "outputs": [],
   "source": [
    "# 사용할 MLflow UI server 셋팅\n",
    "mlflow.set_tracking_uri(\"http://127.0.0.1:8080\")\n",
    "mlflow.set_experiment(\"Bped_442T06_Li\")\n",
    "\n",
    "# 예측 결과 업로드\n",
    "with mlflow.start_run(run_name=\"Model Evaluation\") as run:\n",
    "    mlflow.log_metric(\"mean_absolute_error\", mae)\n",
    "    mlflow.log_metric(\"mean_squared_error\", mse)\n",
    "    mlflow.log_metric(\"root_mean_squared_error\", rmse)\n"
   ]
  }
 ],
 "metadata": {
  "kernelspec": {
   "display_name": "myenv",
   "language": "python",
   "name": "python3"
  },
  "language_info": {
   "codemirror_mode": {
    "name": "ipython",
    "version": 3
   },
   "file_extension": ".py",
   "mimetype": "text/x-python",
   "name": "python",
   "nbconvert_exporter": "python",
   "pygments_lexer": "ipython3",
   "version": "3.8.8"
  },
  "orig_nbformat": 4
 },
 "nbformat": 4,
 "nbformat_minor": 2
}
