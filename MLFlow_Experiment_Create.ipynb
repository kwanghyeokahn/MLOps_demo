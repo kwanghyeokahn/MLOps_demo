{
 "cells": [
  {
   "cell_type": "markdown",
   "metadata": {},
   "source": [
    "#### ML Flow를 활용한 BPED 과제 적용 예제\n",
    "##### 1. 클라이언트 & Experiments 생성\n",
    ">    * 클라이언트 & Experiments 생성\n",
    "    "
   ]
  },
  {
   "cell_type": "markdown",
   "metadata": {},
   "source": [
    "<hr/>\n",
    "\n",
    "***"
   ]
  },
  {
   "cell_type": "code",
   "execution_count": 1,
   "metadata": {},
   "outputs": [],
   "source": [
    "# 클라이언트 관련 라이브러리\n",
    "## !pip install mlflow\n",
    "from pprint import pprint\n",
    "import mlflow\n"
   ]
  },
  {
   "cell_type": "code",
   "execution_count": 2,
   "metadata": {},
   "outputs": [],
   "source": [
    "## Config info\n",
    "\n",
    "# *[Client server path]\n",
    "tracking_uri_path = \"http://127.0.0.1:8080\" #\"http://192.168.25.154:5000\"\n",
    "\n",
    "# *[Experiment description]\n",
    "experiment_description_info = (\n",
    "\"프로젝트 명 : ML Flow를 활용한 BPED 개발 Tutorial\\n\"\n",
    "\"개발 모델 명 : 442T06_Li Regression 모델\\n\"\n",
    "\"개발자 : 안광혁\\n\"  \n",
    "\"개발 기간 : 2024.02.16 ~\\n\"  \n",
    ")\n",
    "\n",
    "# *[Experiment description tag]\n",
    "tag_info_project_name = 'MLflow Tutorial test'\n",
    "tag_info_depart = 'AI사업부'\n",
    "tag_info_team = 'Data Analyasis'\n",
    "tag_info_period = 'Q1-2024'\n",
    "\n",
    "# *[Create Experiment name]\n",
    "experiment_name_info = \"Bped_442T06_Li_test\""
   ]
  },
  {
   "cell_type": "markdown",
   "metadata": {},
   "source": [
    "#### 클라이언트 생성 & Experiments 생성"
   ]
  },
  {
   "cell_type": "code",
   "execution_count": 3,
   "metadata": {},
   "outputs": [],
   "source": [
    "# MLflow Client 생성하기\n",
    "client = mlflow.MlflowClient(tracking_uri=f\"{tracking_uri_path}\") #서버 주소\n",
    "\n",
    "# 동작하지 않을 시 Bash 환경에서 아래 코드 동작\n",
    "# mlflow server --host 192.168.25.154 --port 5000"
   ]
  },
  {
   "cell_type": "code",
   "execution_count": 4,
   "metadata": {},
   "outputs": [
    {
     "data": {
      "text/plain": [
       "[<Experiment: artifact_location='mlflow-artifacts:/660539802931161362', creation_time=1708501099510, experiment_id='660539802931161362', last_update_time=1708501099510, lifecycle_stage='active', name='Bped_442T06_Li', tags={'mlflow.note.content': '프로젝트 명 : ML Flow를 활용한 BPED 개발 Tutorial\\n'\n",
       "                         '개발 모델 명 : 442T06_Li Regression 모델\\n'\n",
       "                         '개발자 : 안광혁\\n'\n",
       "                         '개발 기간 : 2024.02.16 ~\\n',\n",
       "  'project_name': 'MLflow Tutorial',\n",
       "  'project_quarter': 'Q1-2024',\n",
       "  'store_dept': 'AI사업부',\n",
       "  'team': 'Data Analyasis'}>,\n",
       " <Experiment: artifact_location='mlflow-artifacts:/565309613522282985', creation_time=1707877184950, experiment_id='565309613522282985', last_update_time=1707877184950, lifecycle_stage='active', name='MLflow Quickstart', tags={}>,\n",
       " <Experiment: artifact_location='mlflow-artifacts:/0', creation_time=1707877184924, experiment_id='0', last_update_time=1707877184924, lifecycle_stage='active', name='Default', tags={}>]"
      ]
     },
     "execution_count": 4,
     "metadata": {},
     "output_type": "execute_result"
    }
   ],
   "source": [
    "# experiments 확인\n",
    "client.search_experiments()"
   ]
  },
  {
   "cell_type": "code",
   "execution_count": 5,
   "metadata": {},
   "outputs": [],
   "source": [
    "# 신규 experiment 생성\n",
    "\n",
    "experiment_description = (\n",
    "f\"{experiment_description_info}\"\n",
    ")\n",
    "\n",
    "experiment_tags = {\n",
    "    \"project_name\": f\"{tag_info_project_name}\",\n",
    "    \"store_dept\": f\"{tag_info_depart}\",\n",
    "    \"team\": f\"{tag_info_team}\",\n",
    "    \"project_quarter\": f\"{tag_info_period}\",\n",
    "    \"mlflow.note.content\": experiment_description,\n",
    "}\n",
    "\n",
    "client.create_experiment(name=f\"{experiment_name_info}\", tags=experiment_tags)"
   ]
  },
  {
   "cell_type": "code",
   "execution_count": 6,
   "metadata": {},
   "outputs": [
    {
     "name": "stdout",
     "output_type": "stream",
     "text": [
      "[<Experiment: artifact_location='mlflow-artifacts:/173616641003583631', creation_time=1708588090996, experiment_id='173616641003583631', last_update_time=1708588090996, lifecycle_stage='active', name='Bped_442T06_Li_test', tags={'mlflow.note.content': '프로젝트 명 : ML Flow를 활용한 BPED 개발 Tutorial\\n'\n",
      "                        '개발 모델 명 : 442T06_Li Regression 모델\\n'\n",
      "                        '개발자 : 안광혁\\n'\n",
      "                        '개발 기간 : 2024.02.16 ~\\n',\n",
      " 'project_name': 'MLflow Tutorial test',\n",
      " 'project_quarter': 'Q1-2024',\n",
      " 'store_dept': 'AI사업부',\n",
      " 'team': 'Data Analyasis'}>]\n"
     ]
    }
   ],
   "source": [
    "# experiment 확인 filter를 이용한 확인\n",
    "\n",
    "search_experiment = client.search_experiments(\n",
    "    filter_string = f\"tags.`project_name` = '{tag_info_project_name}'\"\n",
    ")\n",
    "\n",
    "pprint(search_experiment)"
   ]
  },
  {
   "cell_type": "markdown",
   "metadata": {},
   "source": [
    "* * *"
   ]
  }
 ],
 "metadata": {
  "kernelspec": {
   "display_name": "myenv",
   "language": "python",
   "name": "python3"
  },
  "language_info": {
   "codemirror_mode": {
    "name": "ipython",
    "version": 3
   },
   "file_extension": ".py",
   "mimetype": "text/x-python",
   "name": "python",
   "nbconvert_exporter": "python",
   "pygments_lexer": "ipython3",
   "version": "3.8.8"
  },
  "orig_nbformat": 4
 },
 "nbformat": 4,
 "nbformat_minor": 2
}
