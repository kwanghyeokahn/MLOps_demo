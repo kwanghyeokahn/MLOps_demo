{
 "cells": [
  {
   "cell_type": "markdown",
   "metadata": {},
   "source": [
    "#### ML Flow를 활용한 BPED 과제 적용 예제\n",
    "##### 1. 클라이언트 & Experiments 설정\n",
    ">    * 클라이언트 & Experiments 선택\n",
    "##### 2. 모델 생성\n",
    ">    * Experiments & Run name 설정\n",
    ">    * 데이터 불러오기 & 전처리\n",
    ">    * 데이터 분리\n",
    ">    * 모델 파라미터 설정\n",
    ">    * ML Flow Run context 작성\n",
    "    "
   ]
  },
  {
   "cell_type": "markdown",
   "metadata": {},
   "source": [
    "<hr/>\n",
    "\n",
    "***"
   ]
  },
  {
   "cell_type": "code",
   "execution_count": 1,
   "metadata": {},
   "outputs": [],
   "source": [
    "\n",
    "from pprint import pprint\n",
    "\n",
    "# 모델 학습 관련 라이브러리\n",
    "import mlflow\n",
    "from sklearn.model_selection import train_test_split\n",
    "import xgboost as xgb\n",
    "from sklearn.metrics import mean_absolute_error, mean_squared_error, r2_score\n",
    "from mlflow.models import infer_signature\n",
    "import pandas as pd\n",
    "import numpy as np\n",
    "\n",
    "from sklearn.compose import ColumnTransformer\n",
    "from sklearn.preprocessing import StandardScaler\n",
    "from sklearn.pipeline import Pipeline"
   ]
  },
  {
   "cell_type": "code",
   "execution_count": 2,
   "metadata": {},
   "outputs": [],
   "source": [
    "## Config info\n",
    "\n",
    "# *[Client server path]\n",
    "tracking_uri_path = \"http://127.0.0.1:8080\" #\"http://192.168.25.154:5000\"\n",
    "\n",
    "# *[Experiment]\n",
    "experiment_name_info = \"Bped_442T06_Li_test\"\n",
    "\n",
    "# *[Model]\n",
    "run_name_info = \"xgboost_model\"\n",
    "scaler_info = StandardScaler()\n",
    "params = {\n",
    "    \"n_estimators\":1000,\n",
    "    \"learning_rate\": 0.01,\n",
    "    \"max_depth\": 1,\n",
    "    'min_child_weight': 2,\n",
    "    'subsample': 0.8,\n",
    "    'gamma': 1,\n",
    "    'colsample_bytree': 0.8,\n",
    "    \"random_state\": 42\n",
    "}\n",
    "model_type_info = 'regressor'\n",
    "training_info = 'xgboost/standardscaler/n_estimators=1000'"
   ]
  },
  {
   "cell_type": "markdown",
   "metadata": {},
   "source": [
    "#### 클라이언트 & Experiments 선택"
   ]
  },
  {
   "cell_type": "code",
   "execution_count": 6,
   "metadata": {},
   "outputs": [],
   "source": [
    "# Tracking URI 설정\n",
    "mlflow.set_tracking_uri(f\"{tracking_uri_path}\")\n"
   ]
  },
  {
   "cell_type": "code",
   "execution_count": 7,
   "metadata": {},
   "outputs": [
    {
     "data": {
      "text/plain": [
       "<Experiment: artifact_location='mlflow-artifacts:/173616641003583631', creation_time=1708588090996, experiment_id='173616641003583631', last_update_time=1708588090996, lifecycle_stage='active', name='Bped_442T06_Li_test', tags={'mlflow.note.content': '프로젝트 명 : ML Flow를 활용한 BPED 개발 Tutorial\\n'\n",
       "                        '개발 모델 명 : 442T06_Li Regression 모델\\n'\n",
       "                        '개발자 : 안광혁\\n'\n",
       "                        '개발 기간 : 2024.02.16 ~\\n',\n",
       " 'project_name': 'MLflow Tutorial test',\n",
       " 'project_quarter': 'Q1-2024',\n",
       " 'store_dept': 'AI사업부',\n",
       " 'team': 'Data Analyasis'}>"
      ]
     },
     "execution_count": 7,
     "metadata": {},
     "output_type": "execute_result"
    }
   ],
   "source": [
    "# Experiment 선택\n",
    "mlflow.set_experiment(f\"{experiment_name_info}\")"
   ]
  },
  {
   "cell_type": "markdown",
   "metadata": {},
   "source": [
    "* * *"
   ]
  },
  {
   "cell_type": "markdown",
   "metadata": {},
   "source": [
    "#### 모델 생성"
   ]
  },
  {
   "cell_type": "code",
   "execution_count": 8,
   "metadata": {},
   "outputs": [],
   "source": [
    "# Tracking을 위한 Client 셋\n",
    "#mlflow.set_tracking_uri(\"http://192.168.25.154:5000\")\n",
    "\n",
    "# Experiment 설정\n",
    "#Bped_442T06_Li_experiment = mlflow.set_experiment(\"Bped_442T06_Li\")\n",
    "\n",
    "# Run name 설정\n",
    "run_name = f\"{run_name_info}\"\n",
    "\n",
    "# artifact path set\n",
    "#artifact_path = 'xgboost_regressor_20240220'\n"
   ]
  },
  {
   "cell_type": "code",
   "execution_count": 9,
   "metadata": {},
   "outputs": [],
   "source": [
    "## 데이터 불러오기\n",
    "\n",
    "# 사용 변수 정보\n",
    "df_features = pd.read_json('model_features_v1.2.json')\n",
    "COL_442T06_Li = df_features[df_features['442T06_Li']=='Y'][['INDEX','FEATURE']] #23년\n",
    "\n",
    "# 데이터 셋 구분\n",
    "X_raw = pd.read_csv('data/train_dataset.csv')\n",
    "Y_raw = pd.read_csv('data/train_dataset.csv')\n",
    "\n",
    "# 독립변수, 종속변수 설정\n",
    "X = X_raw[COL_442T06_Li['FEATURE'].to_list()]\n",
    "Y = Y_raw['442T06_Li']"
   ]
  },
  {
   "cell_type": "code",
   "execution_count": 10,
   "metadata": {},
   "outputs": [
    {
     "name": "stdout",
     "output_type": "stream",
     "text": [
      "=======[1]데이터 셋 구분 통과=======\n",
      "=======[2]모델 핏 통과=======\n",
      "=======[3]run context 시작=======\n",
      "=======[4]log_input 시작=======\n",
      "=======[5]set_tag 시작=======\n",
      "=======[6]infer_signature 시작=======\n",
      "=======[7]log_model 시작=======\n"
     ]
    },
    {
     "ename": "MlflowException",
     "evalue": "API request to http://192.168.25.154:5000/api/2.0/mlflow-artifacts/artifacts/173616641003583631/590dc0f7d5a0469081fa09fa1efda24f/artifacts/model/input_example.json failed with exception HTTPConnectionPool(host='192.168.25.154', port=5000): Max retries exceeded with url: /api/2.0/mlflow-artifacts/artifacts/173616641003583631/590dc0f7d5a0469081fa09fa1efda24f/artifacts/model/input_example.json (Caused by ProtocolError('Connection aborted.', ConnectionAbortedError(10053, '현재 연결은 사용자의 호스트 시스템의 소프트웨어의 의해 중단되었습니다', None, 10053, None)))",
     "output_type": "error",
     "traceback": [
      "\u001b[1;31m---------------------------------------------------------------------------\u001b[0m",
      "\u001b[1;31mProtocolError\u001b[0m                             Traceback (most recent call last)",
      "\u001b[1;31mProtocolError\u001b[0m: ('Connection aborted.', ConnectionAbortedError(10053, '현재 연결은 사용자의 호스트 시스템의 소프트웨어의 의해 중단되었습니다', None, 10053, None))",
      "\nThe above exception was the direct cause of the following exception:\n",
      "\u001b[1;31mMaxRetryError\u001b[0m                             Traceback (most recent call last)",
      "File \u001b[1;32mc:\\Workspace\\MLOps_demo\\myenv\\lib\\site-packages\\requests\\adapters.py:486\u001b[0m, in \u001b[0;36mHTTPAdapter.send\u001b[1;34m(self, request, stream, timeout, verify, cert, proxies)\u001b[0m\n\u001b[0;32m    485\u001b[0m \u001b[39mtry\u001b[39;00m:\n\u001b[1;32m--> 486\u001b[0m     resp \u001b[39m=\u001b[39m conn\u001b[39m.\u001b[39;49murlopen(\n\u001b[0;32m    487\u001b[0m         method\u001b[39m=\u001b[39;49mrequest\u001b[39m.\u001b[39;49mmethod,\n\u001b[0;32m    488\u001b[0m         url\u001b[39m=\u001b[39;49murl,\n\u001b[0;32m    489\u001b[0m         body\u001b[39m=\u001b[39;49mrequest\u001b[39m.\u001b[39;49mbody,\n\u001b[0;32m    490\u001b[0m         headers\u001b[39m=\u001b[39;49mrequest\u001b[39m.\u001b[39;49mheaders,\n\u001b[0;32m    491\u001b[0m         redirect\u001b[39m=\u001b[39;49m\u001b[39mFalse\u001b[39;49;00m,\n\u001b[0;32m    492\u001b[0m         assert_same_host\u001b[39m=\u001b[39;49m\u001b[39mFalse\u001b[39;49;00m,\n\u001b[0;32m    493\u001b[0m         preload_content\u001b[39m=\u001b[39;49m\u001b[39mFalse\u001b[39;49;00m,\n\u001b[0;32m    494\u001b[0m         decode_content\u001b[39m=\u001b[39;49m\u001b[39mFalse\u001b[39;49;00m,\n\u001b[0;32m    495\u001b[0m         retries\u001b[39m=\u001b[39;49m\u001b[39mself\u001b[39;49m\u001b[39m.\u001b[39;49mmax_retries,\n\u001b[0;32m    496\u001b[0m         timeout\u001b[39m=\u001b[39;49mtimeout,\n\u001b[0;32m    497\u001b[0m         chunked\u001b[39m=\u001b[39;49mchunked,\n\u001b[0;32m    498\u001b[0m     )\n\u001b[0;32m    500\u001b[0m \u001b[39mexcept\u001b[39;00m (ProtocolError, \u001b[39mOSError\u001b[39;00m) \u001b[39mas\u001b[39;00m err:\n",
      "File \u001b[1;32mc:\\Workspace\\MLOps_demo\\myenv\\lib\\site-packages\\urllib3\\connectionpool.py:877\u001b[0m, in \u001b[0;36mHTTPConnectionPool.urlopen\u001b[1;34m(self, method, url, body, headers, retries, redirect, assert_same_host, timeout, pool_timeout, release_conn, chunked, body_pos, preload_content, decode_content, **response_kw)\u001b[0m\n\u001b[0;32m    874\u001b[0m     log\u001b[39m.\u001b[39mwarning(\n\u001b[0;32m    875\u001b[0m         \u001b[39m\"\u001b[39m\u001b[39mRetrying (\u001b[39m\u001b[39m%r\u001b[39;00m\u001b[39m) after connection broken by \u001b[39m\u001b[39m'\u001b[39m\u001b[39m%r\u001b[39;00m\u001b[39m'\u001b[39m\u001b[39m: \u001b[39m\u001b[39m%s\u001b[39;00m\u001b[39m\"\u001b[39m, retries, err, url\n\u001b[0;32m    876\u001b[0m     )\n\u001b[1;32m--> 877\u001b[0m     \u001b[39mreturn\u001b[39;00m \u001b[39mself\u001b[39;49m\u001b[39m.\u001b[39;49murlopen(\n\u001b[0;32m    878\u001b[0m         method,\n\u001b[0;32m    879\u001b[0m         url,\n\u001b[0;32m    880\u001b[0m         body,\n\u001b[0;32m    881\u001b[0m         headers,\n\u001b[0;32m    882\u001b[0m         retries,\n\u001b[0;32m    883\u001b[0m         redirect,\n\u001b[0;32m    884\u001b[0m         assert_same_host,\n\u001b[0;32m    885\u001b[0m         timeout\u001b[39m=\u001b[39;49mtimeout,\n\u001b[0;32m    886\u001b[0m         pool_timeout\u001b[39m=\u001b[39;49mpool_timeout,\n\u001b[0;32m    887\u001b[0m         release_conn\u001b[39m=\u001b[39;49mrelease_conn,\n\u001b[0;32m    888\u001b[0m         chunked\u001b[39m=\u001b[39;49mchunked,\n\u001b[0;32m    889\u001b[0m         body_pos\u001b[39m=\u001b[39;49mbody_pos,\n\u001b[0;32m    890\u001b[0m         preload_content\u001b[39m=\u001b[39;49mpreload_content,\n\u001b[0;32m    891\u001b[0m         decode_content\u001b[39m=\u001b[39;49mdecode_content,\n\u001b[0;32m    892\u001b[0m         \u001b[39m*\u001b[39;49m\u001b[39m*\u001b[39;49mresponse_kw,\n\u001b[0;32m    893\u001b[0m     )\n\u001b[0;32m    895\u001b[0m \u001b[39m# Handle redirect?\u001b[39;00m\n",
      "File \u001b[1;32mc:\\Workspace\\MLOps_demo\\myenv\\lib\\site-packages\\urllib3\\connectionpool.py:877\u001b[0m, in \u001b[0;36mHTTPConnectionPool.urlopen\u001b[1;34m(self, method, url, body, headers, retries, redirect, assert_same_host, timeout, pool_timeout, release_conn, chunked, body_pos, preload_content, decode_content, **response_kw)\u001b[0m\n\u001b[0;32m    874\u001b[0m     log\u001b[39m.\u001b[39mwarning(\n\u001b[0;32m    875\u001b[0m         \u001b[39m\"\u001b[39m\u001b[39mRetrying (\u001b[39m\u001b[39m%r\u001b[39;00m\u001b[39m) after connection broken by \u001b[39m\u001b[39m'\u001b[39m\u001b[39m%r\u001b[39;00m\u001b[39m'\u001b[39m\u001b[39m: \u001b[39m\u001b[39m%s\u001b[39;00m\u001b[39m\"\u001b[39m, retries, err, url\n\u001b[0;32m    876\u001b[0m     )\n\u001b[1;32m--> 877\u001b[0m     \u001b[39mreturn\u001b[39;00m \u001b[39mself\u001b[39;49m\u001b[39m.\u001b[39;49murlopen(\n\u001b[0;32m    878\u001b[0m         method,\n\u001b[0;32m    879\u001b[0m         url,\n\u001b[0;32m    880\u001b[0m         body,\n\u001b[0;32m    881\u001b[0m         headers,\n\u001b[0;32m    882\u001b[0m         retries,\n\u001b[0;32m    883\u001b[0m         redirect,\n\u001b[0;32m    884\u001b[0m         assert_same_host,\n\u001b[0;32m    885\u001b[0m         timeout\u001b[39m=\u001b[39;49mtimeout,\n\u001b[0;32m    886\u001b[0m         pool_timeout\u001b[39m=\u001b[39;49mpool_timeout,\n\u001b[0;32m    887\u001b[0m         release_conn\u001b[39m=\u001b[39;49mrelease_conn,\n\u001b[0;32m    888\u001b[0m         chunked\u001b[39m=\u001b[39;49mchunked,\n\u001b[0;32m    889\u001b[0m         body_pos\u001b[39m=\u001b[39;49mbody_pos,\n\u001b[0;32m    890\u001b[0m         preload_content\u001b[39m=\u001b[39;49mpreload_content,\n\u001b[0;32m    891\u001b[0m         decode_content\u001b[39m=\u001b[39;49mdecode_content,\n\u001b[0;32m    892\u001b[0m         \u001b[39m*\u001b[39;49m\u001b[39m*\u001b[39;49mresponse_kw,\n\u001b[0;32m    893\u001b[0m     )\n\u001b[0;32m    895\u001b[0m \u001b[39m# Handle redirect?\u001b[39;00m\n",
      "    \u001b[1;31m[... skipping similar frames: HTTPConnectionPool.urlopen at line 877 (2 times)]\u001b[0m\n",
      "File \u001b[1;32mc:\\Workspace\\MLOps_demo\\myenv\\lib\\site-packages\\urllib3\\connectionpool.py:877\u001b[0m, in \u001b[0;36mHTTPConnectionPool.urlopen\u001b[1;34m(self, method, url, body, headers, retries, redirect, assert_same_host, timeout, pool_timeout, release_conn, chunked, body_pos, preload_content, decode_content, **response_kw)\u001b[0m\n\u001b[0;32m    874\u001b[0m     log\u001b[39m.\u001b[39mwarning(\n\u001b[0;32m    875\u001b[0m         \u001b[39m\"\u001b[39m\u001b[39mRetrying (\u001b[39m\u001b[39m%r\u001b[39;00m\u001b[39m) after connection broken by \u001b[39m\u001b[39m'\u001b[39m\u001b[39m%r\u001b[39;00m\u001b[39m'\u001b[39m\u001b[39m: \u001b[39m\u001b[39m%s\u001b[39;00m\u001b[39m\"\u001b[39m, retries, err, url\n\u001b[0;32m    876\u001b[0m     )\n\u001b[1;32m--> 877\u001b[0m     \u001b[39mreturn\u001b[39;00m \u001b[39mself\u001b[39;49m\u001b[39m.\u001b[39;49murlopen(\n\u001b[0;32m    878\u001b[0m         method,\n\u001b[0;32m    879\u001b[0m         url,\n\u001b[0;32m    880\u001b[0m         body,\n\u001b[0;32m    881\u001b[0m         headers,\n\u001b[0;32m    882\u001b[0m         retries,\n\u001b[0;32m    883\u001b[0m         redirect,\n\u001b[0;32m    884\u001b[0m         assert_same_host,\n\u001b[0;32m    885\u001b[0m         timeout\u001b[39m=\u001b[39;49mtimeout,\n\u001b[0;32m    886\u001b[0m         pool_timeout\u001b[39m=\u001b[39;49mpool_timeout,\n\u001b[0;32m    887\u001b[0m         release_conn\u001b[39m=\u001b[39;49mrelease_conn,\n\u001b[0;32m    888\u001b[0m         chunked\u001b[39m=\u001b[39;49mchunked,\n\u001b[0;32m    889\u001b[0m         body_pos\u001b[39m=\u001b[39;49mbody_pos,\n\u001b[0;32m    890\u001b[0m         preload_content\u001b[39m=\u001b[39;49mpreload_content,\n\u001b[0;32m    891\u001b[0m         decode_content\u001b[39m=\u001b[39;49mdecode_content,\n\u001b[0;32m    892\u001b[0m         \u001b[39m*\u001b[39;49m\u001b[39m*\u001b[39;49mresponse_kw,\n\u001b[0;32m    893\u001b[0m     )\n\u001b[0;32m    895\u001b[0m \u001b[39m# Handle redirect?\u001b[39;00m\n",
      "File \u001b[1;32mc:\\Workspace\\MLOps_demo\\myenv\\lib\\site-packages\\urllib3\\connectionpool.py:847\u001b[0m, in \u001b[0;36mHTTPConnectionPool.urlopen\u001b[1;34m(self, method, url, body, headers, retries, redirect, assert_same_host, timeout, pool_timeout, release_conn, chunked, body_pos, preload_content, decode_content, **response_kw)\u001b[0m\n\u001b[0;32m    845\u001b[0m     new_e \u001b[39m=\u001b[39m ProtocolError(\u001b[39m\"\u001b[39m\u001b[39mConnection aborted.\u001b[39m\u001b[39m\"\u001b[39m, new_e)\n\u001b[1;32m--> 847\u001b[0m retries \u001b[39m=\u001b[39m retries\u001b[39m.\u001b[39;49mincrement(\n\u001b[0;32m    848\u001b[0m     method, url, error\u001b[39m=\u001b[39;49mnew_e, _pool\u001b[39m=\u001b[39;49m\u001b[39mself\u001b[39;49m, _stacktrace\u001b[39m=\u001b[39;49msys\u001b[39m.\u001b[39;49mexc_info()[\u001b[39m2\u001b[39;49m]\n\u001b[0;32m    849\u001b[0m )\n\u001b[0;32m    850\u001b[0m retries\u001b[39m.\u001b[39msleep()\n",
      "File \u001b[1;32mc:\\Workspace\\MLOps_demo\\myenv\\lib\\site-packages\\urllib3\\util\\retry.py:515\u001b[0m, in \u001b[0;36mRetry.increment\u001b[1;34m(self, method, url, response, error, _pool, _stacktrace)\u001b[0m\n\u001b[0;32m    514\u001b[0m     reason \u001b[39m=\u001b[39m error \u001b[39mor\u001b[39;00m ResponseError(cause)\n\u001b[1;32m--> 515\u001b[0m     \u001b[39mraise\u001b[39;00m MaxRetryError(_pool, url, reason) \u001b[39mfrom\u001b[39;00m \u001b[39mreason\u001b[39;00m  \u001b[39m# type: ignore[arg-type]\u001b[39;00m\n\u001b[0;32m    517\u001b[0m log\u001b[39m.\u001b[39mdebug(\u001b[39m\"\u001b[39m\u001b[39mIncremented Retry for (url=\u001b[39m\u001b[39m'\u001b[39m\u001b[39m%s\u001b[39;00m\u001b[39m'\u001b[39m\u001b[39m): \u001b[39m\u001b[39m%r\u001b[39;00m\u001b[39m\"\u001b[39m, url, new_retry)\n",
      "\u001b[1;31mMaxRetryError\u001b[0m: HTTPConnectionPool(host='192.168.25.154', port=5000): Max retries exceeded with url: /api/2.0/mlflow-artifacts/artifacts/173616641003583631/590dc0f7d5a0469081fa09fa1efda24f/artifacts/model/input_example.json (Caused by ProtocolError('Connection aborted.', ConnectionAbortedError(10053, '현재 연결은 사용자의 호스트 시스템의 소프트웨어의 의해 중단되었습니다', None, 10053, None)))",
      "\nDuring handling of the above exception, another exception occurred:\n",
      "\u001b[1;31mConnectionError\u001b[0m                           Traceback (most recent call last)",
      "File \u001b[1;32mc:\\Workspace\\MLOps_demo\\myenv\\lib\\site-packages\\mlflow\\utils\\rest_utils.py:108\u001b[0m, in \u001b[0;36mhttp_request\u001b[1;34m(host_creds, endpoint, method, max_retries, backoff_factor, backoff_jitter, extra_headers, retry_codes, timeout, raise_on_status, **kwargs)\u001b[0m\n\u001b[0;32m    107\u001b[0m \u001b[39mtry\u001b[39;00m:\n\u001b[1;32m--> 108\u001b[0m     \u001b[39mreturn\u001b[39;00m _get_http_response_with_retries(\n\u001b[0;32m    109\u001b[0m         method,\n\u001b[0;32m    110\u001b[0m         url,\n\u001b[0;32m    111\u001b[0m         max_retries,\n\u001b[0;32m    112\u001b[0m         backoff_factor,\n\u001b[0;32m    113\u001b[0m         backoff_jitter,\n\u001b[0;32m    114\u001b[0m         retry_codes,\n\u001b[0;32m    115\u001b[0m         raise_on_status,\n\u001b[0;32m    116\u001b[0m         headers\u001b[39m=\u001b[39;49mheaders,\n\u001b[0;32m    117\u001b[0m         verify\u001b[39m=\u001b[39;49mhost_creds\u001b[39m.\u001b[39;49mverify,\n\u001b[0;32m    118\u001b[0m         timeout\u001b[39m=\u001b[39;49mtimeout,\n\u001b[0;32m    119\u001b[0m         \u001b[39m*\u001b[39;49m\u001b[39m*\u001b[39;49mkwargs,\n\u001b[0;32m    120\u001b[0m     )\n\u001b[0;32m    121\u001b[0m \u001b[39mexcept\u001b[39;00m requests\u001b[39m.\u001b[39mexceptions\u001b[39m.\u001b[39mTimeout \u001b[39mas\u001b[39;00m to:\n",
      "File \u001b[1;32mc:\\Workspace\\MLOps_demo\\myenv\\lib\\site-packages\\mlflow\\utils\\request_utils.py:212\u001b[0m, in \u001b[0;36m_get_http_response_with_retries\u001b[1;34m(method, url, max_retries, backoff_factor, backoff_jitter, retry_codes, raise_on_status, allow_redirects, **kwargs)\u001b[0m\n\u001b[0;32m    210\u001b[0m allow_redirects \u001b[39m=\u001b[39m env_value \u001b[39mif\u001b[39;00m allow_redirects \u001b[39mis\u001b[39;00m \u001b[39mNone\u001b[39;00m \u001b[39melse\u001b[39;00m allow_redirects\n\u001b[1;32m--> 212\u001b[0m \u001b[39mreturn\u001b[39;00m session\u001b[39m.\u001b[39;49mrequest(method, url, allow_redirects\u001b[39m=\u001b[39;49mallow_redirects, \u001b[39m*\u001b[39;49m\u001b[39m*\u001b[39;49mkwargs)\n",
      "File \u001b[1;32mc:\\Workspace\\MLOps_demo\\myenv\\lib\\site-packages\\requests\\sessions.py:589\u001b[0m, in \u001b[0;36mSession.request\u001b[1;34m(self, method, url, params, data, headers, cookies, files, auth, timeout, allow_redirects, proxies, hooks, stream, verify, cert, json)\u001b[0m\n\u001b[0;32m    588\u001b[0m send_kwargs\u001b[39m.\u001b[39mupdate(settings)\n\u001b[1;32m--> 589\u001b[0m resp \u001b[39m=\u001b[39m \u001b[39mself\u001b[39;49m\u001b[39m.\u001b[39;49msend(prep, \u001b[39m*\u001b[39;49m\u001b[39m*\u001b[39;49msend_kwargs)\n\u001b[0;32m    591\u001b[0m \u001b[39mreturn\u001b[39;00m resp\n",
      "File \u001b[1;32mc:\\Workspace\\MLOps_demo\\myenv\\lib\\site-packages\\requests\\sessions.py:703\u001b[0m, in \u001b[0;36mSession.send\u001b[1;34m(self, request, **kwargs)\u001b[0m\n\u001b[0;32m    702\u001b[0m \u001b[39m# Send the request\u001b[39;00m\n\u001b[1;32m--> 703\u001b[0m r \u001b[39m=\u001b[39m adapter\u001b[39m.\u001b[39;49msend(request, \u001b[39m*\u001b[39;49m\u001b[39m*\u001b[39;49mkwargs)\n\u001b[0;32m    705\u001b[0m \u001b[39m# Total elapsed time of the request (approximately)\u001b[39;00m\n",
      "File \u001b[1;32mc:\\Workspace\\MLOps_demo\\myenv\\lib\\site-packages\\requests\\adapters.py:519\u001b[0m, in \u001b[0;36mHTTPAdapter.send\u001b[1;34m(self, request, stream, timeout, verify, cert, proxies)\u001b[0m\n\u001b[0;32m    517\u001b[0m         \u001b[39mraise\u001b[39;00m SSLError(e, request\u001b[39m=\u001b[39mrequest)\n\u001b[1;32m--> 519\u001b[0m     \u001b[39mraise\u001b[39;00m \u001b[39mConnectionError\u001b[39;00m(e, request\u001b[39m=\u001b[39mrequest)\n\u001b[0;32m    521\u001b[0m \u001b[39mexcept\u001b[39;00m ClosedPoolError \u001b[39mas\u001b[39;00m e:\n",
      "\u001b[1;31mConnectionError\u001b[0m: HTTPConnectionPool(host='192.168.25.154', port=5000): Max retries exceeded with url: /api/2.0/mlflow-artifacts/artifacts/173616641003583631/590dc0f7d5a0469081fa09fa1efda24f/artifacts/model/input_example.json (Caused by ProtocolError('Connection aborted.', ConnectionAbortedError(10053, '현재 연결은 사용자의 호스트 시스템의 소프트웨어의 의해 중단되었습니다', None, 10053, None)))",
      "\nDuring handling of the above exception, another exception occurred:\n",
      "\u001b[1;31mMlflowException\u001b[0m                           Traceback (most recent call last)",
      "Cell \u001b[1;32mIn[10], line 78\u001b[0m\n\u001b[0;32m     76\u001b[0m \u001b[39mprint\u001b[39m(\u001b[39m\"\u001b[39m\u001b[39m=======[7]log_model 시작=======\u001b[39m\u001b[39m\"\u001b[39m)\n\u001b[0;32m     77\u001b[0m \u001b[39m# Log an instance of the trained model for later use\u001b[39;00m\n\u001b[1;32m---> 78\u001b[0m mlflow\u001b[39m.\u001b[39;49msklearn\u001b[39m.\u001b[39;49mlog_model(\n\u001b[0;32m     79\u001b[0m     sk_model\u001b[39m=\u001b[39;49mxgbr,\n\u001b[0;32m     80\u001b[0m     input_example\u001b[39m=\u001b[39;49mX_val_eval, \n\u001b[0;32m     81\u001b[0m     artifact_path\u001b[39m=\u001b[39;49m\u001b[39m'\u001b[39;49m\u001b[39mmodel\u001b[39;49m\u001b[39m'\u001b[39;49m,\n\u001b[0;32m     82\u001b[0m     signature\u001b[39m=\u001b[39;49msignature\n\u001b[0;32m     83\u001b[0m     \u001b[39m#registerd_model_name = \"등록할 모델 이름\"\u001b[39;49;00m\n\u001b[0;32m     84\u001b[0m     )\n\u001b[0;32m     86\u001b[0m \u001b[39mprint\u001b[39m(\u001b[39m\"\u001b[39m\u001b[39m=======[8]get_artifact_uri 시작=======\u001b[39m\u001b[39m\"\u001b[39m)\n\u001b[0;32m     87\u001b[0m model_uri \u001b[39m=\u001b[39m mlflow\u001b[39m.\u001b[39mget_artifact_uri(\u001b[39m\"\u001b[39m\u001b[39mmodel\u001b[39m\u001b[39m\"\u001b[39m)\n",
      "File \u001b[1;32mc:\\Workspace\\MLOps_demo\\myenv\\lib\\site-packages\\mlflow\\sklearn\\__init__.py:411\u001b[0m, in \u001b[0;36mlog_model\u001b[1;34m(sk_model, artifact_path, conda_env, code_paths, serialization_format, registered_model_name, signature, input_example, await_registration_for, pip_requirements, extra_pip_requirements, pyfunc_predict_fn, metadata)\u001b[0m\n\u001b[0;32m    331\u001b[0m \u001b[39m@format_docstring\u001b[39m(LOG_MODEL_PARAM_DOCS\u001b[39m.\u001b[39mformat(package_name\u001b[39m=\u001b[39m\u001b[39m\"\u001b[39m\u001b[39mscikit-learn\u001b[39m\u001b[39m\"\u001b[39m))\n\u001b[0;32m    332\u001b[0m \u001b[39mdef\u001b[39;00m \u001b[39mlog_model\u001b[39m(\n\u001b[0;32m    333\u001b[0m     sk_model,\n\u001b[1;32m   (...)\u001b[0m\n\u001b[0;32m    345\u001b[0m     metadata\u001b[39m=\u001b[39m\u001b[39mNone\u001b[39;00m,\n\u001b[0;32m    346\u001b[0m ):\n\u001b[0;32m    347\u001b[0m \u001b[39m    \u001b[39m\u001b[39m\"\"\"\u001b[39;00m\n\u001b[0;32m    348\u001b[0m \u001b[39m    Log a scikit-learn model as an MLflow artifact for the current run. Produces an MLflow Model\u001b[39;00m\n\u001b[0;32m    349\u001b[0m \u001b[39m    containing the following flavors:\u001b[39;00m\n\u001b[1;32m   (...)\u001b[0m\n\u001b[0;32m    409\u001b[0m \n\u001b[0;32m    410\u001b[0m \u001b[39m    \"\"\"\u001b[39;00m\n\u001b[1;32m--> 411\u001b[0m     \u001b[39mreturn\u001b[39;00m Model\u001b[39m.\u001b[39;49mlog(\n\u001b[0;32m    412\u001b[0m         artifact_path\u001b[39m=\u001b[39;49martifact_path,\n\u001b[0;32m    413\u001b[0m         flavor\u001b[39m=\u001b[39;49mmlflow\u001b[39m.\u001b[39;49msklearn,\n\u001b[0;32m    414\u001b[0m         sk_model\u001b[39m=\u001b[39;49msk_model,\n\u001b[0;32m    415\u001b[0m         conda_env\u001b[39m=\u001b[39;49mconda_env,\n\u001b[0;32m    416\u001b[0m         code_paths\u001b[39m=\u001b[39;49mcode_paths,\n\u001b[0;32m    417\u001b[0m         serialization_format\u001b[39m=\u001b[39;49mserialization_format,\n\u001b[0;32m    418\u001b[0m         registered_model_name\u001b[39m=\u001b[39;49mregistered_model_name,\n\u001b[0;32m    419\u001b[0m         signature\u001b[39m=\u001b[39;49msignature,\n\u001b[0;32m    420\u001b[0m         input_example\u001b[39m=\u001b[39;49minput_example,\n\u001b[0;32m    421\u001b[0m         await_registration_for\u001b[39m=\u001b[39;49mawait_registration_for,\n\u001b[0;32m    422\u001b[0m         pip_requirements\u001b[39m=\u001b[39;49mpip_requirements,\n\u001b[0;32m    423\u001b[0m         extra_pip_requirements\u001b[39m=\u001b[39;49mextra_pip_requirements,\n\u001b[0;32m    424\u001b[0m         pyfunc_predict_fn\u001b[39m=\u001b[39;49mpyfunc_predict_fn,\n\u001b[0;32m    425\u001b[0m         metadata\u001b[39m=\u001b[39;49mmetadata,\n\u001b[0;32m    426\u001b[0m     )\n",
      "File \u001b[1;32mc:\\Workspace\\MLOps_demo\\myenv\\lib\\site-packages\\mlflow\\models\\model.py:623\u001b[0m, in \u001b[0;36mModel.log\u001b[1;34m(cls, artifact_path, flavor, registered_model_name, await_registration_for, metadata, run_id, **kwargs)\u001b[0m\n\u001b[0;32m    621\u001b[0m     _logger\u001b[39m.\u001b[39mwarning(_LOG_MODEL_MISSING_SIGNATURE_WARNING)\n\u001b[0;32m    622\u001b[0m flavor\u001b[39m.\u001b[39msave_model(path\u001b[39m=\u001b[39mlocal_path, mlflow_model\u001b[39m=\u001b[39mmlflow_model, \u001b[39m*\u001b[39m\u001b[39m*\u001b[39mkwargs)\n\u001b[1;32m--> 623\u001b[0m mlflow\u001b[39m.\u001b[39;49mtracking\u001b[39m.\u001b[39;49mfluent\u001b[39m.\u001b[39;49mlog_artifacts(local_path, mlflow_model\u001b[39m.\u001b[39;49martifact_path, run_id)\n\u001b[0;32m    624\u001b[0m \u001b[39mtry\u001b[39;00m:\n\u001b[0;32m    625\u001b[0m     mlflow\u001b[39m.\u001b[39mtracking\u001b[39m.\u001b[39mfluent\u001b[39m.\u001b[39m_record_logged_model(mlflow_model, run_id)\n",
      "File \u001b[1;32mc:\\Workspace\\MLOps_demo\\myenv\\lib\\site-packages\\mlflow\\tracking\\fluent.py:1046\u001b[0m, in \u001b[0;36mlog_artifacts\u001b[1;34m(local_dir, artifact_path, run_id)\u001b[0m\n\u001b[0;32m   1016\u001b[0m \u001b[39m\u001b[39m\u001b[39m\"\"\"\u001b[39;00m\n\u001b[0;32m   1017\u001b[0m \u001b[39mLog all the contents of a local directory as artifacts of the run. If no run is active,\u001b[39;00m\n\u001b[0;32m   1018\u001b[0m \u001b[39mthis method will create a new active run.\u001b[39;00m\n\u001b[1;32m   (...)\u001b[0m\n\u001b[0;32m   1043\u001b[0m \u001b[39m        mlflow.log_artifacts(\"data\", artifact_path=\"states\")\u001b[39;00m\n\u001b[0;32m   1044\u001b[0m \u001b[39m\"\"\"\u001b[39;00m\n\u001b[0;32m   1045\u001b[0m run_id \u001b[39m=\u001b[39m run_id \u001b[39mor\u001b[39;00m _get_or_start_run()\u001b[39m.\u001b[39minfo\u001b[39m.\u001b[39mrun_id\n\u001b[1;32m-> 1046\u001b[0m MlflowClient()\u001b[39m.\u001b[39;49mlog_artifacts(run_id, local_dir, artifact_path)\n",
      "File \u001b[1;32mc:\\Workspace\\MLOps_demo\\myenv\\lib\\site-packages\\mlflow\\tracking\\client.py:1195\u001b[0m, in \u001b[0;36mMlflowClient.log_artifacts\u001b[1;34m(self, run_id, local_dir, artifact_path)\u001b[0m\n\u001b[0;32m   1151\u001b[0m \u001b[39mdef\u001b[39;00m \u001b[39mlog_artifacts\u001b[39m(\n\u001b[0;32m   1152\u001b[0m     \u001b[39mself\u001b[39m, run_id: \u001b[39mstr\u001b[39m, local_dir: \u001b[39mstr\u001b[39m, artifact_path: Optional[\u001b[39mstr\u001b[39m] \u001b[39m=\u001b[39m \u001b[39mNone\u001b[39;00m\n\u001b[0;32m   1153\u001b[0m ) \u001b[39m-\u001b[39m\u001b[39m>\u001b[39m \u001b[39mNone\u001b[39;00m:\n\u001b[0;32m   1154\u001b[0m \u001b[39m    \u001b[39m\u001b[39m\"\"\"\u001b[39;00m\n\u001b[0;32m   1155\u001b[0m \u001b[39m    Write a directory of files to the remote ``artifact_uri``.\u001b[39;00m\n\u001b[0;32m   1156\u001b[0m \n\u001b[1;32m   (...)\u001b[0m\n\u001b[0;32m   1193\u001b[0m \u001b[39m        is_dir: True\u001b[39;00m\n\u001b[0;32m   1194\u001b[0m \u001b[39m    \"\"\"\u001b[39;00m\n\u001b[1;32m-> 1195\u001b[0m     \u001b[39mself\u001b[39;49m\u001b[39m.\u001b[39;49m_tracking_client\u001b[39m.\u001b[39;49mlog_artifacts(run_id, local_dir, artifact_path)\n",
      "File \u001b[1;32mc:\\Workspace\\MLOps_demo\\myenv\\lib\\site-packages\\mlflow\\tracking\\_tracking_service\\client.py:538\u001b[0m, in \u001b[0;36mTrackingServiceClient.log_artifacts\u001b[1;34m(self, run_id, local_dir, artifact_path)\u001b[0m\n\u001b[0;32m    531\u001b[0m \u001b[39mdef\u001b[39;00m \u001b[39mlog_artifacts\u001b[39m(\u001b[39mself\u001b[39m, run_id, local_dir, artifact_path\u001b[39m=\u001b[39m\u001b[39mNone\u001b[39;00m):\n\u001b[0;32m    532\u001b[0m \u001b[39m    \u001b[39m\u001b[39m\"\"\"\u001b[39;00m\n\u001b[0;32m    533\u001b[0m \u001b[39m    Write a directory of files to the remote ``artifact_uri``.\u001b[39;00m\n\u001b[0;32m    534\u001b[0m \n\u001b[0;32m    535\u001b[0m \u001b[39m    :param local_dir: Path to the directory of files to write.\u001b[39;00m\n\u001b[0;32m    536\u001b[0m \u001b[39m    :param artifact_path: If provided, the directory in ``artifact_uri`` to write to.\u001b[39;00m\n\u001b[0;32m    537\u001b[0m \u001b[39m    \"\"\"\u001b[39;00m\n\u001b[1;32m--> 538\u001b[0m     \u001b[39mself\u001b[39;49m\u001b[39m.\u001b[39;49m_get_artifact_repo(run_id)\u001b[39m.\u001b[39;49mlog_artifacts(local_dir, artifact_path)\n",
      "File \u001b[1;32mc:\\Workspace\\MLOps_demo\\myenv\\lib\\site-packages\\mlflow\\store\\artifact\\http_artifact_repo.py:80\u001b[0m, in \u001b[0;36mHttpArtifactRepository.log_artifacts\u001b[1;34m(self, local_dir, artifact_path)\u001b[0m\n\u001b[0;32m     76\u001b[0m     artifact_dir \u001b[39m=\u001b[39m (\n\u001b[0;32m     77\u001b[0m         posixpath\u001b[39m.\u001b[39mjoin(artifact_path, rel_path) \u001b[39mif\u001b[39;00m artifact_path \u001b[39melse\u001b[39;00m rel_path\n\u001b[0;32m     78\u001b[0m     )\n\u001b[0;32m     79\u001b[0m \u001b[39mfor\u001b[39;00m f \u001b[39min\u001b[39;00m filenames:\n\u001b[1;32m---> 80\u001b[0m     \u001b[39mself\u001b[39;49m\u001b[39m.\u001b[39;49mlog_artifact(os\u001b[39m.\u001b[39;49mpath\u001b[39m.\u001b[39;49mjoin(root, f), artifact_dir)\n",
      "File \u001b[1;32mc:\\Workspace\\MLOps_demo\\myenv\\lib\\site-packages\\mlflow\\store\\artifact\\http_artifact_repo.py:63\u001b[0m, in \u001b[0;36mHttpArtifactRepository.log_artifact\u001b[1;34m(self, local_file, artifact_path)\u001b[0m\n\u001b[0;32m     61\u001b[0m extra_headers \u001b[39m=\u001b[39m {\u001b[39m\"\u001b[39m\u001b[39mContent-Type\u001b[39m\u001b[39m\"\u001b[39m: mime_type}\n\u001b[0;32m     62\u001b[0m \u001b[39mwith\u001b[39;00m \u001b[39mopen\u001b[39m(local_file, \u001b[39m\"\u001b[39m\u001b[39mrb\u001b[39m\u001b[39m\"\u001b[39m) \u001b[39mas\u001b[39;00m f:\n\u001b[1;32m---> 63\u001b[0m     resp \u001b[39m=\u001b[39m http_request(\n\u001b[0;32m     64\u001b[0m         \u001b[39mself\u001b[39;49m\u001b[39m.\u001b[39;49m_host_creds, endpoint, \u001b[39m\"\u001b[39;49m\u001b[39mPUT\u001b[39;49m\u001b[39m\"\u001b[39;49m, data\u001b[39m=\u001b[39;49mf, extra_headers\u001b[39m=\u001b[39;49mextra_headers\n\u001b[0;32m     65\u001b[0m     )\n\u001b[0;32m     66\u001b[0m     augmented_raise_for_status(resp)\n",
      "File \u001b[1;32mc:\\Workspace\\MLOps_demo\\myenv\\lib\\site-packages\\mlflow\\utils\\rest_utils.py:130\u001b[0m, in \u001b[0;36mhttp_request\u001b[1;34m(host_creds, endpoint, method, max_retries, backoff_factor, backoff_jitter, extra_headers, retry_codes, timeout, raise_on_status, **kwargs)\u001b[0m\n\u001b[0;32m    128\u001b[0m     \u001b[39mraise\u001b[39;00m InvalidUrlException(\u001b[39mf\u001b[39m\u001b[39m\"\u001b[39m\u001b[39mInvalid url: \u001b[39m\u001b[39m{\u001b[39;00murl\u001b[39m}\u001b[39;00m\u001b[39m\"\u001b[39m) \u001b[39mfrom\u001b[39;00m \u001b[39miu\u001b[39;00m\n\u001b[0;32m    129\u001b[0m \u001b[39mexcept\u001b[39;00m \u001b[39mException\u001b[39;00m \u001b[39mas\u001b[39;00m e:\n\u001b[1;32m--> 130\u001b[0m     \u001b[39mraise\u001b[39;00m MlflowException(\u001b[39mf\u001b[39m\u001b[39m\"\u001b[39m\u001b[39mAPI request to \u001b[39m\u001b[39m{\u001b[39;00murl\u001b[39m}\u001b[39;00m\u001b[39m failed with exception \u001b[39m\u001b[39m{\u001b[39;00me\u001b[39m}\u001b[39;00m\u001b[39m\"\u001b[39m)\n",
      "\u001b[1;31mMlflowException\u001b[0m: API request to http://192.168.25.154:5000/api/2.0/mlflow-artifacts/artifacts/173616641003583631/590dc0f7d5a0469081fa09fa1efda24f/artifacts/model/input_example.json failed with exception HTTPConnectionPool(host='192.168.25.154', port=5000): Max retries exceeded with url: /api/2.0/mlflow-artifacts/artifacts/173616641003583631/590dc0f7d5a0469081fa09fa1efda24f/artifacts/model/input_example.json (Caused by ProtocolError('Connection aborted.', ConnectionAbortedError(10053, '현재 연결은 사용자의 호스트 시스템의 소프트웨어의 의해 중단되었습니다', None, 10053, None)))"
     ]
    }
   ],
   "source": [
    "## 모델 Pipeline 생성\n",
    "\n",
    "# Scaler 설정\n",
    "numeric_columns = COL_442T06_Li['FEATURE'].to_list()\n",
    "\n",
    "preprocessor = ColumnTransformer(\n",
    "    transformers=[\n",
    "        ('num', scaler_info, numeric_columns),\n",
    "    ],\n",
    "    remainder='passthrough'\n",
    ")\n",
    "\n",
    "# 모델 파라미터 설정\n",
    "#params = {\n",
    "#    \"n_estimators\":1000,\n",
    "#    \"learning_rate\": 0.01,\n",
    "#    \"max_depth\": 1,\n",
    "#    'min_child_weight': 2,\n",
    "#    'subsample': 0.8,\n",
    "#    'gamma': 1,\n",
    "#    'colsample_bytree': 0.8,\n",
    "#    \"random_state\": 42\n",
    "#}\n",
    "xgbr = xgb.XGBRegressor(**params)\n",
    "\n",
    "# 데이터 셋 구분\n",
    "X_train, X_val, y_train, y_val = train_test_split(X, Y, test_size=0.2, shuffle=False) # 시계열 데이터 평가이기에 shuffle은 False로 함\n",
    "#X_train, X_val, y_train, y_val = train_test_split(X, Y, test_size=0.2, shuffle=False) # 시계열 데이터 평가이기에 shuffle은 False로 함\n",
    "\n",
    "print(\"=======[1]데이터 셋 구분 통과=======\")\n",
    "\n",
    "# Pipeline 구성\n",
    "pipeline = Pipeline(steps=[\n",
    "    ('preprocessor', preprocessor),\n",
    "    ('xgb_regressor', xgbr)\n",
    "    ])\n",
    "\n",
    "# 모델 학습\n",
    "pipeline.fit(X_train, y_train)\n",
    "\n",
    "print(\"=======[2]모델 핏 통과=======\")\n",
    "\n",
    "# X_val 예측\n",
    "y_pred = pipeline.predict(X_val)\n",
    "\n",
    "# Pipeline 구성 eval 시각화 용\n",
    "pipeline_for_eval = Pipeline(steps=[\n",
    "    ('preprocessor', preprocessor)\n",
    "    ])\n",
    "# eval 시각화 용\n",
    "pipeline_for_eval.fit(X_train)\n",
    "X_train_val = pipeline_for_eval.transform(X_train)\n",
    "X_val_eval = pipeline_for_eval.transform(X_val)\n",
    "\n",
    "print(\"=======[3]run context 시작=======\")\n",
    "\n",
    "# ML Flow Run Context 작성\n",
    "with mlflow.start_run(run_name=run_name) as run:\n",
    "    \n",
    "    print(\"=======[4]log_input 시작=======\")\n",
    "    # \n",
    "    mlflow.log_input(mlflow.data.from_numpy(np.array(X)), context='features')\n",
    "    mlflow.log_input(mlflow.data.from_numpy(np.array(Y)), context='labels')\n",
    "    \n",
    "    # Log the parameters used for the model fit\n",
    "    mlflow.log_params(params)\n",
    "    \n",
    "    print(\"=======[5]set_tag 시작=======\")\n",
    "    # Set a tag that we can use to remind ourselves what this run was for\n",
    "    mlflow.set_tag(\"Training Info\", f\"{training_info}\")\n",
    "    \n",
    "    print(\"=======[6]infer_signature 시작=======\")\n",
    "    # Infer the model signature\n",
    "    signature = infer_signature(X_train_val, xgbr.predict(X_train_val)) # Web UI에서 Run Dataset 반영 됨, mlflow.evaluate의 data 및 targets에도 데이터 형태 영향 줌\n",
    "\n",
    "    print(\"=======[7]log_model 시작=======\")\n",
    "    # Log an instance of the trained model for later use\n",
    "    mlflow.sklearn.log_model(\n",
    "        sk_model=xgbr,\n",
    "        input_example=X_val_eval, \n",
    "        artifact_path='model',\n",
    "        signature=signature\n",
    "        #registerd_model_name = \"등록할 모델 이름\"\n",
    "        )\n",
    "    \n",
    "    print(\"=======[8]get_artifact_uri 시작=======\")\n",
    "    model_uri = mlflow.get_artifact_uri(\"model\")\n",
    "    print('model_uri :',model_uri)\n",
    "    \n",
    "    eval_metrics  = mlflow.evaluate(\n",
    "        model_uri,\n",
    "        data = X_val_eval,\n",
    "        targets = np.array(y_val),\n",
    "        model_type = f\"{model_type_info}\",\n",
    "        evaluators = [\"default\"]\n",
    "    )\n",
    "    \n",
    "print(\"Evaluation Metrics:\", eval_metrics)\n",
    "\n"
   ]
  },
  {
   "cell_type": "code",
   "execution_count": null,
   "metadata": {},
   "outputs": [],
   "source": []
  },
  {
   "cell_type": "code",
   "execution_count": null,
   "metadata": {},
   "outputs": [],
   "source": []
  },
  {
   "cell_type": "code",
   "execution_count": null,
   "metadata": {},
   "outputs": [],
   "source": []
  },
  {
   "cell_type": "code",
   "execution_count": null,
   "metadata": {},
   "outputs": [],
   "source": []
  }
 ],
 "metadata": {
  "kernelspec": {
   "display_name": "myenv",
   "language": "python",
   "name": "python3"
  },
  "language_info": {
   "codemirror_mode": {
    "name": "ipython",
    "version": 3
   },
   "file_extension": ".py",
   "mimetype": "text/x-python",
   "name": "python",
   "nbconvert_exporter": "python",
   "pygments_lexer": "ipython3",
   "version": "3.8.8"
  },
  "orig_nbformat": 4
 },
 "nbformat": 4,
 "nbformat_minor": 2
}
